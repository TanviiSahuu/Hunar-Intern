{
 "cells": [
  {
   "cell_type": "code",
   "execution_count": 3,
   "id": "9bf376e0-9eaa-47c8-8020-d959ed48fc07",
   "metadata": {},
   "outputs": [
    {
     "name": "stdin",
     "output_type": "stream",
     "text": [
      "Enter the order of the matrix (e.g., for 3x3, enter 3):  3\n"
     ]
    },
    {
     "name": "stdout",
     "output_type": "stream",
     "text": [
      "Enter the values for the 3x3 matrix:\n"
     ]
    },
    {
     "name": "stdin",
     "output_type": "stream",
     "text": [
      "Enter row 1 elements separated by space:  45 89 23\n",
      "Enter row 2 elements separated by space:  55 71 68\n",
      "Enter row 3 elements separated by space:  61 33 59\n"
     ]
    },
    {
     "name": "stdout",
     "output_type": "stream",
     "text": [
      "The sum of the diagonal elements is: 175\n"
     ]
    }
   ],
   "source": [
    "import numpy as np\n",
    "\n",
    "# User Input\n",
    "order = int(input(\"Enter the order of the matrix (e.g., for 3x3, enter 3): \"))\n",
    "\n",
    "matrix = []\n",
    "print(f\"Enter the values for the {order}x{order} matrix:\")\n",
    "\n",
    "for i in range(order):\n",
    "    row = list(map(int, input(f\"Enter row {i+1} elements separated by space: \").split()))\n",
    "    matrix.append(row)\n",
    "\n",
    "# Convert the list to a numpy array\n",
    "matrix = np.array(matrix)\n",
    "\n",
    "# Sum of Diagonal Elements\n",
    "diagonal_sum = 0\n",
    "for i in range(order):\n",
    "    diagonal_sum += matrix[i][i]\n",
    "\n",
    "\n",
    "print(f\"The sum of the diagonal elements is: {diagonal_sum}\")\n"
   ]
  }
 ],
 "metadata": {
  "kernelspec": {
   "display_name": "Python 3 (ipykernel)",
   "language": "python",
   "name": "python3"
  },
  "language_info": {
   "codemirror_mode": {
    "name": "ipython",
    "version": 3
   },
   "file_extension": ".py",
   "mimetype": "text/x-python",
   "name": "python",
   "nbconvert_exporter": "python",
   "pygments_lexer": "ipython3",
   "version": "3.12.4"
  }
 },
 "nbformat": 4,
 "nbformat_minor": 5
}
